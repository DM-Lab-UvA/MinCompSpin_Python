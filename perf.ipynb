{
 "cells": [
  {
   "cell_type": "code",
   "execution_count": 1,
   "id": "dbdb6e3e-baff-4579-9569-ca0344b4e705",
   "metadata": {},
   "outputs": [],
   "source": [
    "import timeit"
   ]
  },
  {
   "cell_type": "code",
   "execution_count": 1,
   "id": "5bb77a8f-1b90-419b-b7f0-cba75ced5776",
   "metadata": {},
   "outputs": [],
   "source": [
    "data_path = \"MinCompSpin_Greedy/INPUT/SCOTUS_n9_N895_Data.dat\"\n",
    "n = 9\n",
    "\n",
    "setup = '''\n",
    "import MinCompSpin as mod\n",
    "def greedy_main(path, r):\n",
    "    Kset = mod.read_datafile(path, r)\n",
    "\n",
    "    fp1 = mod.MCM_GreedySearch(Kset)\n",
    "    S = mod.Entropy(Kset)\n",
    "    LogL_g = mod.LogL_MCM(Kset, fp1)\n",
    "    LogE_g = mod.LogE_MCM(Kset, fp1)\n",
    "    LogL_infoICC = mod.LogL_MCM_infoICC(Kset, fp1)\n",
    "    LogE_infoICC = mod.LogE_MCM_infoICC(Kset, fp1)\n",
    "'''\n",
    "\n",
    "stmt = f'''\n",
    "greedy_main(\"{data_path}\", {n})\n",
    "'''"
   ]
  },
  {
   "cell_type": "code",
   "execution_count": 3,
   "id": "b8ce95d1-fec6-48cd-aad7-a7512f60f95f",
   "metadata": {},
   "outputs": [
    {
     "name": "stdout",
     "output_type": "stream",
     "text": [
      "Read the dataset: MinCompSpin_Greedy/INPUT/SCOTUS_n9_N895_Data.dat\n",
      "Number of variables to read: n = 9\n",
      "\t **** Filling in the rxr-triangular Matrix ****\n",
      "\t **** Start Merging ****\n",
      "\t Done with iteration 1\n",
      "\t Done with iteration 2\n",
      "\t Done with iteration 3\n",
      "\t Done with iteration 4\n",
      "\t Done with iteration 5\n",
      "\t Done with iteration 6\n",
      "\t Done with iteration 7\n",
      "\t **** Greedy Merging Finished ****\n",
      "\n"
     ]
    },
    {
     "ename": "TypeError",
     "evalue": "LogL_MCM(): incompatible function arguments. The following argument types are supported:\n    1. (arg0: MinCompSpin.Kset, arg1: MinCompSpin.Partitions) -> float\n\nInvoked with: <MinCompSpin.Kset object at 0x7f9a2228e570>, <MinCompSpin.Partitions object at 0x7f9a222aca70>, 9",
     "output_type": "error",
     "traceback": [
      "\u001b[0;31m---------------------------------------------------------------------------\u001b[0m",
      "\u001b[0;31mTypeError\u001b[0m                                 Traceback (most recent call last)",
      "Cell \u001b[0;32mIn[3], line 8\u001b[0m\n\u001b[1;32m      6\u001b[0m \u001b[38;5;28;01mif\u001b[39;00m debug:\n\u001b[1;32m      7\u001b[0m      number \u001b[38;5;241m=\u001b[39m \u001b[38;5;241m1\u001b[39m\n\u001b[0;32m----> 8\u001b[0m res \u001b[38;5;241m=\u001b[39m \u001b[43mtimeit\u001b[49m\u001b[38;5;241;43m.\u001b[39;49m\u001b[43mrepeat\u001b[49m\u001b[43m(\u001b[49m\u001b[43mstmt\u001b[49m\u001b[43m,\u001b[49m\u001b[43m \u001b[49m\u001b[43msetup\u001b[49m\u001b[43m,\u001b[49m\u001b[43m \u001b[49m\u001b[43mrepeat\u001b[49m\u001b[38;5;241;43m=\u001b[39;49m\u001b[43mrepeat\u001b[49m\u001b[43m,\u001b[49m\u001b[43m \u001b[49m\u001b[43mnumber\u001b[49m\u001b[38;5;241;43m=\u001b[39;49m\u001b[43mnumber\u001b[49m\u001b[43m)\u001b[49m\n\u001b[1;32m      9\u001b[0m \u001b[38;5;28mprint\u001b[39m(\u001b[38;5;124m\"\u001b[39m\u001b[38;5;124mmin\u001b[39m\u001b[38;5;124m\"\u001b[39m, \u001b[38;5;28mmin\u001b[39m(res) \u001b[38;5;241m/\u001b[39m number \u001b[38;5;241m*\u001b[39m \u001b[38;5;241m1000_000\u001b[39m, \u001b[38;5;124m\"\u001b[39m\u001b[38;5;124mmicro seconds\u001b[39m\u001b[38;5;124m\"\u001b[39m)\n\u001b[1;32m     10\u001b[0m \u001b[38;5;28mprint\u001b[39m(\u001b[38;5;124m\"\u001b[39m\u001b[38;5;124mmean\u001b[39m\u001b[38;5;124m\"\u001b[39m, \u001b[38;5;28msum\u001b[39m(res) \u001b[38;5;241m/\u001b[39m \u001b[38;5;28mlen\u001b[39m(res) \u001b[38;5;241m/\u001b[39m number \u001b[38;5;241m*\u001b[39m \u001b[38;5;241m1000_000\u001b[39m, \u001b[38;5;124m\"\u001b[39m\u001b[38;5;124mmicro seconds\u001b[39m\u001b[38;5;124m\"\u001b[39m)\n",
      "File \u001b[0;32m/usr/lib/python3.11/timeit.py:243\u001b[0m, in \u001b[0;36mrepeat\u001b[0;34m(stmt, setup, timer, repeat, number, globals)\u001b[0m\n\u001b[1;32m    240\u001b[0m \u001b[38;5;28;01mdef\u001b[39;00m \u001b[38;5;21mrepeat\u001b[39m(stmt\u001b[38;5;241m=\u001b[39m\u001b[38;5;124m\"\u001b[39m\u001b[38;5;124mpass\u001b[39m\u001b[38;5;124m\"\u001b[39m, setup\u001b[38;5;241m=\u001b[39m\u001b[38;5;124m\"\u001b[39m\u001b[38;5;124mpass\u001b[39m\u001b[38;5;124m\"\u001b[39m, timer\u001b[38;5;241m=\u001b[39mdefault_timer,\n\u001b[1;32m    241\u001b[0m            repeat\u001b[38;5;241m=\u001b[39mdefault_repeat, number\u001b[38;5;241m=\u001b[39mdefault_number, \u001b[38;5;28mglobals\u001b[39m\u001b[38;5;241m=\u001b[39m\u001b[38;5;28;01mNone\u001b[39;00m):\n\u001b[1;32m    242\u001b[0m \u001b[38;5;250m    \u001b[39m\u001b[38;5;124;03m\"\"\"Convenience function to create Timer object and call repeat method.\"\"\"\u001b[39;00m\n\u001b[0;32m--> 243\u001b[0m     \u001b[38;5;28;01mreturn\u001b[39;00m \u001b[43mTimer\u001b[49m\u001b[43m(\u001b[49m\u001b[43mstmt\u001b[49m\u001b[43m,\u001b[49m\u001b[43m \u001b[49m\u001b[43msetup\u001b[49m\u001b[43m,\u001b[49m\u001b[43m \u001b[49m\u001b[43mtimer\u001b[49m\u001b[43m,\u001b[49m\u001b[43m \u001b[49m\u001b[38;5;28;43mglobals\u001b[39;49m\u001b[43m)\u001b[49m\u001b[38;5;241;43m.\u001b[39;49m\u001b[43mrepeat\u001b[49m\u001b[43m(\u001b[49m\u001b[43mrepeat\u001b[49m\u001b[43m,\u001b[49m\u001b[43m \u001b[49m\u001b[43mnumber\u001b[49m\u001b[43m)\u001b[49m\n",
      "File \u001b[0;32m/usr/lib/python3.11/timeit.py:208\u001b[0m, in \u001b[0;36mTimer.repeat\u001b[0;34m(self, repeat, number)\u001b[0m\n\u001b[1;32m    206\u001b[0m r \u001b[38;5;241m=\u001b[39m []\n\u001b[1;32m    207\u001b[0m \u001b[38;5;28;01mfor\u001b[39;00m i \u001b[38;5;129;01min\u001b[39;00m \u001b[38;5;28mrange\u001b[39m(repeat):\n\u001b[0;32m--> 208\u001b[0m     t \u001b[38;5;241m=\u001b[39m \u001b[38;5;28;43mself\u001b[39;49m\u001b[38;5;241;43m.\u001b[39;49m\u001b[43mtimeit\u001b[49m\u001b[43m(\u001b[49m\u001b[43mnumber\u001b[49m\u001b[43m)\u001b[49m\n\u001b[1;32m    209\u001b[0m     r\u001b[38;5;241m.\u001b[39mappend(t)\n\u001b[1;32m    210\u001b[0m \u001b[38;5;28;01mreturn\u001b[39;00m r\n",
      "File \u001b[0;32m/usr/lib/python3.11/timeit.py:180\u001b[0m, in \u001b[0;36mTimer.timeit\u001b[0;34m(self, number)\u001b[0m\n\u001b[1;32m    178\u001b[0m gc\u001b[38;5;241m.\u001b[39mdisable()\n\u001b[1;32m    179\u001b[0m \u001b[38;5;28;01mtry\u001b[39;00m:\n\u001b[0;32m--> 180\u001b[0m     timing \u001b[38;5;241m=\u001b[39m \u001b[38;5;28;43mself\u001b[39;49m\u001b[38;5;241;43m.\u001b[39;49m\u001b[43minner\u001b[49m\u001b[43m(\u001b[49m\u001b[43mit\u001b[49m\u001b[43m,\u001b[49m\u001b[43m \u001b[49m\u001b[38;5;28;43mself\u001b[39;49m\u001b[38;5;241;43m.\u001b[39;49m\u001b[43mtimer\u001b[49m\u001b[43m)\u001b[49m\n\u001b[1;32m    181\u001b[0m \u001b[38;5;28;01mfinally\u001b[39;00m:\n\u001b[1;32m    182\u001b[0m     \u001b[38;5;28;01mif\u001b[39;00m gcold:\n",
      "File \u001b[0;32m<timeit-src>:18\u001b[0m, in \u001b[0;36minner\u001b[0;34m(_it, _timer)\u001b[0m\n",
      "File \u001b[0;32m<timeit-src>:10\u001b[0m, in \u001b[0;36mgreedy_main\u001b[0;34m(path, r)\u001b[0m\n",
      "\u001b[0;31mTypeError\u001b[0m: LogL_MCM(): incompatible function arguments. The following argument types are supported:\n    1. (arg0: MinCompSpin.Kset, arg1: MinCompSpin.Partitions) -> float\n\nInvoked with: <MinCompSpin.Kset object at 0x7f9a2228e570>, <MinCompSpin.Partitions object at 0x7f9a222aca70>, 9"
     ]
    }
   ],
   "source": [
    "debug = True\n",
    "save_path = data_path + \".test1.dat\"\n",
    "\n",
    "repeat = 5\n",
    "number = 1000\n",
    "if debug:\n",
    "     number = 1\n",
    "res = timeit.repeat(stmt, setup, repeat=repeat, number=number)\n",
    "print(\"min\", min(res) / number * 1000_000, \"micro seconds\")\n",
    "print(\"mean\", sum(res) / len(res) / number * 1000_000, \"micro seconds\")\n",
    "print(f\"Writing to {save_path}\")\n",
    "print(res)\n",
    "with open(save_path, \"w\") as save_file:\n",
    "    save_file.write(f\"{res}\")"
   ]
  },
  {
   "cell_type": "code",
   "execution_count": null,
   "id": "dc5757e4-61d7-4cd6-b8e7-2108374efcc6",
   "metadata": {},
   "outputs": [],
   "source": []
  }
 ],
 "metadata": {
  "kernelspec": {
   "display_name": "Python 3 (ipykernel)",
   "language": "python",
   "name": "python3"
  },
  "language_info": {
   "codemirror_mode": {
    "name": "ipython",
    "version": 3
   },
   "file_extension": ".py",
   "mimetype": "text/x-python",
   "name": "python",
   "nbconvert_exporter": "python",
   "pygments_lexer": "ipython3",
   "version": "3.11.6"
  }
 },
 "nbformat": 4,
 "nbformat_minor": 5
}
