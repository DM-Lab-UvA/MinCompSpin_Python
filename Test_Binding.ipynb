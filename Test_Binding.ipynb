{
 "cells": [
  {
   "cell_type": "code",
   "execution_count": 1,
   "id": "bb453e65",
   "metadata": {},
   "outputs": [],
   "source": [
    "import numpy as np\n",
    "import MinCompSpin as mod"
   ]
  },
  {
   "cell_type": "markdown",
   "id": "8c4014ce",
   "metadata": {},
   "source": [
    "# Test 1: Read data 128 bits"
   ]
  },
  {
   "cell_type": "code",
   "execution_count": 2,
   "id": "9440f180",
   "metadata": {},
   "outputs": [],
   "source": [
    "datafile = \"./INPUT/SCOTUS_n9_N895_Data.dat\"\n",
    "N=0\n",
    "n=9"
   ]
  },
  {
   "cell_type": "code",
   "execution_count": 11,
   "id": "bde7c3b5",
   "metadata": {},
   "outputs": [
    {
     "name": "stdout",
     "output_type": "stream",
     "text": [
      "Read the dataset: ./INPUT/SCOTUS_n9_N895_Data.dat\n",
      "Number of variables to read: n = 9\n"
     ]
    },
    {
     "data": {
      "text/plain": [
       "MinCompSpin.Kset"
      ]
     },
     "execution_count": 11,
     "metadata": {},
     "output_type": "execute_result"
    }
   ],
   "source": [
    "data=mod.read_datafile(datafile, n)\n",
    "type(data)"
   ]
  },
  {
   "cell_type": "code",
   "execution_count": 12,
   "id": "18a89f46",
   "metadata": {},
   "outputs": [
    {
     "data": {
      "text/plain": [
       "array([[  0,   0, 174],\n",
       "       [  1,   0,   2],\n",
       "       [  4,   0,   8],\n",
       "       [ 16,   0,   2],\n",
       "       [ 20,   0,   1],\n",
       "       [ 32,   0,   3],\n",
       "       [ 33,   0,   1],\n",
       "       [ 36,   0,  29],\n",
       "       [ 44,   0,   1],\n",
       "       [ 52,   0,   9],\n",
       "       [ 64,   0,   1],\n",
       "       [ 65,   0,   1],\n",
       "       [ 67,   0,   1],\n",
       "       [ 68,   0,   1],\n",
       "       [ 75,   0,   1],\n",
       "       [ 76,   0,   1],\n",
       "       [ 82,   0,   1],\n",
       "       [100,   0,   8],\n",
       "       [111,   0,   1],\n",
       "       [116,   0,   2],\n",
       "       [128,   0,   1],\n",
       "       [129,   0,   3],\n",
       "       [130,   0,   2],\n",
       "       [132,   0,   1],\n",
       "       [133,   0,   1],\n",
       "       [139,   0,   3],\n",
       "       [142,   0,   1],\n",
       "       [160,   0,   1],\n",
       "       [164,   0,   1],\n",
       "       [166,   0,   1],\n",
       "       [171,   0,   1],\n",
       "       [172,   0,   1],\n",
       "       [175,   0,   1],\n",
       "       [176,   0,   1],\n",
       "       [180,   0,   1],\n",
       "       [195,   0,   1],\n",
       "       [203,   0,   1],\n",
       "       [211,   0,   1],\n",
       "       [213,   0,   1],\n",
       "       [217,   0,   1],\n",
       "       [221,   0,   1],\n",
       "       [231,   0,   1],\n",
       "       [235,   0,   1],\n",
       "       [237,   0,   2],\n",
       "       [254,   0,   1],\n",
       "       [256,   0,   3],\n",
       "       [258,   0,   1],\n",
       "       [260,   0,   5],\n",
       "       [275,   0,   1],\n",
       "       [276,   0,   2],\n",
       "       [287,   0,   1],\n",
       "       [288,   0,   2],\n",
       "       [291,   0,   1],\n",
       "       [292,   0,  29],\n",
       "       [294,   0,   1],\n",
       "       [300,   0,   1],\n",
       "       [305,   0,   1],\n",
       "       [308,   0,  31],\n",
       "       [309,   0,   2],\n",
       "       [310,   0,   4],\n",
       "       [311,   0,   2],\n",
       "       [316,   0,   2],\n",
       "       [318,   0,   1],\n",
       "       [320,   0,   1],\n",
       "       [321,   0,   1],\n",
       "       [323,   0,   1],\n",
       "       [324,   0,   3],\n",
       "       [325,   0,   1],\n",
       "       [328,   0,   1],\n",
       "       [331,   0,   1],\n",
       "       [333,   0,   1],\n",
       "       [336,   0,   1],\n",
       "       [337,   0,   4],\n",
       "       [338,   0,   1],\n",
       "       [341,   0,   2],\n",
       "       [346,   0,   1],\n",
       "       [352,   0,   2],\n",
       "       [353,   0,   2],\n",
       "       [356,   0,  17],\n",
       "       [357,   0,   1],\n",
       "       [358,   0,   1],\n",
       "       [359,   0,   2],\n",
       "       [364,   0,   1],\n",
       "       [365,   0,   1],\n",
       "       [367,   0,   3],\n",
       "       [368,   0,   3],\n",
       "       [369,   0,   1],\n",
       "       [372,   0,  82],\n",
       "       [373,   0,  18],\n",
       "       [374,   0,   1],\n",
       "       [375,   0,   7],\n",
       "       [379,   0,   1],\n",
       "       [380,   0,   8],\n",
       "       [381,   0,  14],\n",
       "       [382,   0,  13],\n",
       "       [383,   0,  61],\n",
       "       [387,   0,   1],\n",
       "       [403,   0,   1],\n",
       "       [409,   0,   1],\n",
       "       [411,   0,   2],\n",
       "       [415,   0,   1],\n",
       "       [430,   0,   1],\n",
       "       [436,   0,   1],\n",
       "       [438,   0,   1],\n",
       "       [439,   0,   1],\n",
       "       [446,   0,   3],\n",
       "       [452,   0,   1],\n",
       "       [459,   0,   1],\n",
       "       [464,   0,   1],\n",
       "       [467,   0,   1],\n",
       "       [468,   0,   1],\n",
       "       [469,   0,   2],\n",
       "       [471,   0,   1],\n",
       "       [472,   0,   1],\n",
       "       [473,   0,   1],\n",
       "       [475,   0,   2],\n",
       "       [478,   0,   2],\n",
       "       [479,   0,   2],\n",
       "       [487,   0,   1],\n",
       "       [493,   0,   1],\n",
       "       [500,   0,   2],\n",
       "       [501,   0,   3],\n",
       "       [502,   0,   1],\n",
       "       [503,   0,   3],\n",
       "       [508,   0,   5],\n",
       "       [509,   0,   1],\n",
       "       [510,   0,   1],\n",
       "       [511,   0, 221]], dtype=uint64)"
      ]
     },
     "execution_count": 12,
     "metadata": {},
     "output_type": "execute_result"
    }
   ],
   "source": [
    "data.array"
   ]
  },
  {
   "cell_type": "code",
   "execution_count": 6,
   "id": "3d24f36f",
   "metadata": {},
   "outputs": [
    {
     "data": {
      "text/plain": [
       "4.411845516595921"
      ]
     },
     "execution_count": 6,
     "metadata": {},
     "output_type": "execute_result"
    }
   ],
   "source": [
    "## Maybe \"Entropy\" could be a methods under Kset?\n",
    "mod.Entropy(data)"
   ]
  },
  {
   "cell_type": "markdown",
   "id": "060342c3",
   "metadata": {},
   "source": [
    "# Test: Run Greedy Algo:"
   ]
  },
  {
   "cell_type": "code",
   "execution_count": 13,
   "id": "dfef91c9",
   "metadata": {},
   "outputs": [
    {
     "name": "stdout",
     "output_type": "stream",
     "text": [
      "\t **** Filling in the rxr-triangular Matrix ****\n",
      "\t **** Start Merging ****\n",
      "\t Done with iteration 1\n",
      "\t Done with iteration 2\n",
      "\t Done with iteration 3\n",
      "\t Done with iteration 4\n",
      "\t Done with iteration 5\n",
      "\t Done with iteration 6\n",
      "\t Done with iteration 7\n",
      "\t **** Greedy Merging Finished ****\n",
      "\n"
     ]
    },
    {
     "name": "stderr",
     "output_type": "stream",
     "text": [
      "Element [0] = 0\n",
      "freeing memory @ 0x6000002f85a0\n"
     ]
    },
    {
     "data": {
      "text/plain": [
       "MinCompSpin.Partitions"
      ]
     },
     "execution_count": 13,
     "metadata": {},
     "output_type": "execute_result"
    }
   ],
   "source": [
    "MCM_best = mod.MCM_GreedySearch(data, n, True)\n",
    "type(MCM_best)"
   ]
  },
  {
   "cell_type": "code",
   "execution_count": 16,
   "id": "a442cc0b",
   "metadata": {},
   "outputs": [
    {
     "data": {
      "text/plain": [
       "9"
      ]
     },
     "execution_count": 16,
     "metadata": {},
     "output_type": "execute_result"
    }
   ],
   "source": [
    "MCM_best.r"
   ]
  },
  {
   "cell_type": "code",
   "execution_count": 17,
   "id": "626ae406",
   "metadata": {},
   "outputs": [
    {
     "data": {
      "text/plain": [
       "array([[  0, 139,   0],\n",
       "       [  2, 372,   0]], dtype=uint64)"
      ]
     },
     "execution_count": 17,
     "metadata": {},
     "output_type": "execute_result"
    }
   ],
   "source": [
    "MCM_best.array"
   ]
  },
  {
   "cell_type": "code",
   "execution_count": 18,
   "id": "e041f334",
   "metadata": {},
   "outputs": [
    {
     "name": "stdout",
     "output_type": "stream",
     "text": [
      "######### START GREEDY SEARCH #########\n",
      "\t **** Filling in the rxr-triangular Matrix ****\n",
      "\t **** Start Merging ****\n",
      "\t Done with iteration 1\n",
      "\t Done with iteration 2\n",
      "\t Done with iteration 3\n",
      "\t Done with iteration 4\n",
      "\t Done with iteration 5\n",
      "\t Done with iteration 6\n",
      "\t Done with iteration 7\n",
      "\t **** Greedy Merging Finished ****\n",
      "\n",
      "Run time : 0.000377s\n",
      "\n",
      "######### ENTROPY OF THE DATA #########\n",
      "S = 4.41185 bits. Range: [0, 9]\n",
      "\n",
      "#########  GREEDY: BEST MCM FOUND:   #########\n",
      "ICC 1: \t 010001011\n",
      "ICC 2: \t 101110100\n",
      "\n",
      "Log-Evidence(MCM)       : -3300.4\t = -5.32007 bits per datapoint \t\n",
      "Max-Log-Likelihood(MCM) : -3194.36\t = -5.14915 bits per datapoint \t\n",
      "\n",
      "Average community size  : 4.5 variables per community \t\n",
      "\n"
     ]
    }
   ],
   "source": [
    "MCM_best2=mod.MCM_GreedySearch_AND_printInfo(data, n, True)"
   ]
  },
  {
   "cell_type": "code",
   "execution_count": 14,
   "id": "0e0b22f1",
   "metadata": {},
   "outputs": [
    {
     "data": {
      "text/plain": [
       "MinCompSpin.Partitions"
      ]
     },
     "execution_count": 14,
     "metadata": {},
     "output_type": "execute_result"
    }
   ],
   "source": [
    "type(MCM_best2)"
   ]
  },
  {
   "cell_type": "code",
   "execution_count": 15,
   "id": "fad5f161",
   "metadata": {},
   "outputs": [
    {
     "data": {
      "text/plain": [
       "array([[  0, 139,   0],\n",
       "       [  2, 372,   0]], dtype=uint64)"
      ]
     },
     "execution_count": 15,
     "metadata": {},
     "output_type": "execute_result"
    }
   ],
   "source": [
    "MCM_best2.array"
   ]
  },
  {
   "cell_type": "markdown",
   "id": "6ec208ca",
   "metadata": {},
   "source": [
    "# Test: Other functionalities:"
   ]
  },
  {
   "cell_type": "markdown",
   "id": "af0a6892",
   "metadata": {},
   "source": [
    "For the following function: \"MCM_best.r\" shouldn't be needed as it is already one attribute of \"Partitions\":"
   ]
  },
  {
   "cell_type": "code",
   "execution_count": 16,
   "id": "a0d98b20",
   "metadata": {},
   "outputs": [
    {
     "data": {
      "text/plain": [
       "-3300.395469673638"
      ]
     },
     "execution_count": 16,
     "metadata": {},
     "output_type": "execute_result"
    }
   ],
   "source": [
    "mod.LogE_MCM(data, MCM_best, MCM_best.r)"
   ]
  },
  {
   "cell_type": "code",
   "execution_count": 17,
   "id": "e5d11038",
   "metadata": {},
   "outputs": [
    {
     "name": "stdout",
     "output_type": "stream",
     "text": [
      "Complete model: 111111111\t  LogE(CM) = -3305.547\t = -5.328 bits per datapoint\n",
      "\n",
      "ICC 1: \t 010001011\t LogE(ICC) = -1545.984\t = -2.492 bits per datapoint \t\n",
      "ICC 2: \t 101110100\t LogE(ICC) = -1754.412\t = -2.828 bits per datapoint \t\n",
      "\n",
      "Log-Evidence(MCM) = -3300.395\t = -5.320 bits per datapoint \t\n"
     ]
    },
    {
     "data": {
      "text/plain": [
       "-3300.395469673638"
      ]
     },
     "execution_count": 17,
     "metadata": {},
     "output_type": "execute_result"
    }
   ],
   "source": [
    "mod.LogE_MCM_infoICC(data, MCM_best, MCM_best.r)"
   ]
  },
  {
   "cell_type": "code",
   "execution_count": 19,
   "id": "a08273e0",
   "metadata": {},
   "outputs": [
    {
     "data": {
      "text/plain": [
       "-3194.3593638660923"
      ]
     },
     "execution_count": 19,
     "metadata": {},
     "output_type": "execute_result"
    }
   ],
   "source": [
    "mod.LogL_MCM(data, MCM_best, MCM_best.r)"
   ]
  },
  {
   "cell_type": "code",
   "execution_count": 21,
   "id": "5c777525",
   "metadata": {},
   "outputs": [
    {
     "name": "stdout",
     "output_type": "stream",
     "text": [
      "ICC 1: \t 010001011\n",
      "ICC 2: \t 101110100\n",
      "\n"
     ]
    }
   ],
   "source": [
    "mod.Print_MCM_Partition(MCM_best, MCM_best.r)"
   ]
  },
  {
   "cell_type": "markdown",
   "id": "b8f31ac9",
   "metadata": {},
   "source": [
    "# Test: Define a new MCM:"
   ]
  },
  {
   "cell_type": "code",
   "execution_count": 23,
   "id": "eb0cf56e",
   "metadata": {},
   "outputs": [],
   "source": [
    "new_part = np.array([[  0, 139,   0], [  2, 372,   0]], dtype=int)"
   ]
  },
  {
   "cell_type": "code",
   "execution_count": 21,
   "id": "2972e907",
   "metadata": {},
   "outputs": [
    {
     "data": {
      "text/plain": [
       "array([[  0, 139,   0],\n",
       "       [  2, 372,   0]])"
      ]
     },
     "execution_count": 21,
     "metadata": {},
     "output_type": "execute_result"
    }
   ],
   "source": [
    "new_part"
   ]
  },
  {
   "cell_type": "code",
   "execution_count": 24,
   "id": "7e658291",
   "metadata": {},
   "outputs": [],
   "source": [
    "new_MCM = mod.Partitions(new_part, 9)"
   ]
  },
  {
   "cell_type": "code",
   "execution_count": 25,
   "id": "7786665b",
   "metadata": {},
   "outputs": [
    {
     "data": {
      "text/plain": [
       "MinCompSpin.Partitions"
      ]
     },
     "execution_count": 25,
     "metadata": {},
     "output_type": "execute_result"
    }
   ],
   "source": [
    "type(new_MCM)"
   ]
  },
  {
   "cell_type": "code",
   "execution_count": 27,
   "id": "bc002d44",
   "metadata": {},
   "outputs": [
    {
     "data": {
      "text/plain": [
       "array([[  0, 139,   0],\n",
       "       [  2, 372,   0]], dtype=uint64)"
      ]
     },
     "execution_count": 27,
     "metadata": {},
     "output_type": "execute_result"
    }
   ],
   "source": [
    "new_MCM.array"
   ]
  },
  {
   "cell_type": "code",
   "execution_count": 23,
   "id": "86479858",
   "metadata": {},
   "outputs": [
    {
     "name": "stdout",
     "output_type": "stream",
     "text": [
      "Complete model: 111111111\t  LogE(CM) = -3305.547\t = -5.328 bits per datapoint\n",
      "\n",
      "ICC 1: \t 010001011\t LogE(ICC) = -1545.984\t = -2.492 bits per datapoint \t\n",
      "ICC 2: \t 101110100\t LogE(ICC) = -1754.412\t = -2.828 bits per datapoint \t\n",
      "\n",
      "Log-Evidence(MCM) = -3300.395\t = -5.320 bits per datapoint \t\n"
     ]
    },
    {
     "data": {
      "text/plain": [
       "-3300.395469673638"
      ]
     },
     "execution_count": 23,
     "metadata": {},
     "output_type": "execute_result"
    }
   ],
   "source": [
    "mod.LogE_MCM_infoICC(data, new_MCM, 9)"
   ]
  },
  {
   "cell_type": "markdown",
   "id": "5893a28f",
   "metadata": {},
   "source": [
    "# Test: getting a binary string from a \"part\" or a \"state\":"
   ]
  },
  {
   "cell_type": "code",
   "execution_count": 24,
   "id": "ff5e26db",
   "metadata": {},
   "outputs": [
    {
     "name": "stdout",
     "output_type": "stream",
     "text": [
      "0b10001011\n",
      "0b101110100\n"
     ]
    }
   ],
   "source": [
    "print(bin(139))\n",
    "print(bin(372))"
   ]
  },
  {
   "cell_type": "code",
   "execution_count": 28,
   "id": "056c17a8",
   "metadata": {},
   "outputs": [
    {
     "name": "stdout",
     "output_type": "stream",
     "text": [
      "10001011\n"
     ]
    }
   ],
   "source": [
    "# Removing the leading characters:\n",
    "x = 139\n",
    "binary = bin(x)\n",
    "stripped_binary = binary.lstrip('-0b')\n",
    "print(stripped_binary)"
   ]
  },
  {
   "cell_type": "code",
   "execution_count": 58,
   "id": "002a1ec1",
   "metadata": {},
   "outputs": [
    {
     "name": "stdout",
     "output_type": "stream",
     "text": [
      "010001011\n"
     ]
    }
   ],
   "source": [
    "# Enforcing a fixed number of digits (ex. 9 here)\n",
    "x = 139\n",
    "binary = bin(x)[2:].zfill(9)\n",
    "print(binary)"
   ]
  },
  {
   "cell_type": "code",
   "execution_count": 66,
   "id": "ee5861b7",
   "metadata": {},
   "outputs": [
    {
     "data": {
      "text/plain": [
       "['0', '1', '0', '0', '0', '1', '0', '1', '1']"
      ]
     },
     "execution_count": 66,
     "metadata": {},
     "output_type": "execute_result"
    }
   ],
   "source": [
    "test=list(binary)\n",
    "test"
   ]
  },
  {
   "cell_type": "code",
   "execution_count": 67,
   "id": "43d47b41",
   "metadata": {},
   "outputs": [
    {
     "data": {
      "text/plain": [
       "array([0, 1, 0, 0, 0, 1, 0, 1, 1])"
      ]
     },
     "execution_count": 67,
     "metadata": {},
     "output_type": "execute_result"
    }
   ],
   "source": [
    "t=np.array(test, dtype = int)\n",
    "t"
   ]
  },
  {
   "cell_type": "code",
   "execution_count": 57,
   "id": "a57e9ac7",
   "metadata": {},
   "outputs": [
    {
     "data": {
      "text/plain": [
       "array([False,  True, False, False, False,  True, False,  True,  True])"
      ]
     },
     "execution_count": 57,
     "metadata": {},
     "output_type": "execute_result"
    }
   ],
   "source": [
    "t==1"
   ]
  },
  {
   "cell_type": "code",
   "execution_count": 65,
   "id": "56394d3d",
   "metadata": {},
   "outputs": [
    {
     "data": {
      "text/plain": [
       "array([0, 1, 0, 0, 0, 1, 0, 1, 1])"
      ]
     },
     "execution_count": 65,
     "metadata": {},
     "output_type": "execute_result"
    }
   ],
   "source": [
    "np.array(list(binary), dtype=int)"
   ]
  },
  {
   "cell_type": "code",
   "execution_count": null,
   "id": "97e381f1",
   "metadata": {},
   "outputs": [],
   "source": []
  }
 ],
 "metadata": {
  "kernelspec": {
   "display_name": "Python 3 (ipykernel)",
   "language": "python",
   "name": "python3"
  },
  "language_info": {
   "codemirror_mode": {
    "name": "ipython",
    "version": 3
   },
   "file_extension": ".py",
   "mimetype": "text/x-python",
   "name": "python",
   "nbconvert_exporter": "python",
   "pygments_lexer": "ipython3",
   "version": "3.10.0"
  }
 },
 "nbformat": 4,
 "nbformat_minor": 5
}
