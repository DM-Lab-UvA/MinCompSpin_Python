{
 "cells": [
  {
   "cell_type": "code",
   "execution_count": 4,
   "id": "1d9cc35d-4347-4912-ac7f-273b2a64028c",
   "metadata": {},
   "outputs": [],
   "source": [
    "import MinCompSpin as mod\n",
    "\n",
    "def greedy_main(path, r):\n",
    "    Kset_orig = mod.read_datafile(path, r)\n",
    "    Kset = mod.Kset(Kset_orig.array, Kset_orig.N, Kset_orig.r)\n",
    "    print(\"Kset\", type(Kset), Kset)\n",
    "    print(\"Kset.array\", type(Kset.array))\n",
    "    print(f\"Found {Kset.N} samples\")\n",
    "    print(\"Entropy (S):\", mod.Entropy(Kset))\n",
    "\n",
    "    print(\"Starting search\")\n",
    "    fp1 = mod.MCM_GreedySearch(Kset)\n",
    "    print(\"model:\", fp1)\n",
    "    # Create a new MCM_Partitions instance with an array\n",
    "    fp2 = mod.Partitions(fp1.array, fp1.r)\n",
    "    print(\"LogE_g:\", mod.LogE_MCM(Kset, fp2))\n",
    "    print(\"LogL_g:\", mod.LogL_MCM(Kset, fp2))\n",
    "    print(\"MCM_infoICC:\", mod.LogL_MCM_infoICC(Kset, fp2))\n",
    "    print(\"MCM_infoICC:\", mod.LogE_MCM_infoICC(Kset, fp2))\n"
   ]
  },
  {
   "cell_type": "code",
   "execution_count": 5,
   "id": "03874990-6039-472f-b932-03cb3abc5dfc",
   "metadata": {},
   "outputs": [
    {
     "name": "stdout",
     "output_type": "stream",
     "text": [
      "Kset <class 'MinCompSpin.Kset'> <MinCompSpin.Kset object at 0x7f988a97c130>\n",
      "Kset.array <class 'numpy.ndarray'>\n",
      "Found 895 samples\n",
      "Entropy (S): 4.411845516595921\n",
      "Starting search\n",
      "model: <MinCompSpin.Partitions object at 0x7f988a97ee70>\n",
      "LogE_g: -3300.395469673638\n",
      "LogL_g: -3194.3593638660923\n",
      "MCM_infoICC: -3300.395469673638\n",
      "MCM_infoICC: -3300.395469673638\n",
      "Read the dataset: MinCompSpin_Greedy/INPUT/SCOTUS_n9_N895_Data.dat\n",
      "Number of variables to read: n = 9\n",
      "\t **** Filling in the rxr-triangular Matrix ****\n",
      "\t **** Start Merging ****\n",
      "\t **** Greedy Merging Finished ****\n",
      "\n",
      "Complete model: 111111111\t  LogE(CM) = -3305.547\t = -5.328 bits per datapoint\n",
      "\n",
      "ICC 1: \t 010001011\t LogE(ICC) = -1545.984\t = -2.492 bits per datapoint \t\n",
      "ICC 2: \t 101110100\t LogE(ICC) = -1754.412\t = -2.828 bits per datapoint \t\n",
      "\n",
      "Log-Evidence(MCM) = -3300.395\t = -5.320 bits per datapoint \t\n",
      "Complete model: 111111111\t  LogE(CM) = -3305.547\t = -5.328 bits per datapoint\n",
      "\n",
      "ICC 1: \t 010001011\t LogE(ICC) = -1545.984\t = -2.492 bits per datapoint \t\n",
      "ICC 2: \t 101110100\t LogE(ICC) = -1754.412\t = -2.828 bits per datapoint \t\n",
      "\n",
      "Log-Evidence(MCM) = -3300.395\t = -5.320 bits per datapoint \t\n"
     ]
    },
    {
     "name": "stderr",
     "output_type": "stream",
     "text": [
      "Element [0] = 0\n",
      "freeing memory @ 0x5608d0b5dae0\n",
      "Element [0] = 0\n",
      "freeing memory @ 0x5608d073a110\n"
     ]
    }
   ],
   "source": [
    "greedy_main(\"MinCompSpin_Greedy/INPUT/SCOTUS_n9_N895_Data.dat\", 9)"
   ]
  },
  {
   "cell_type": "code",
   "execution_count": null,
   "id": "807dc5d7-9caa-4f4b-9fa4-48034f1f3460",
   "metadata": {},
   "outputs": [],
   "source": []
  }
 ],
 "metadata": {
  "kernelspec": {
   "display_name": "Python 3 (ipykernel)",
   "language": "python",
   "name": "python3"
  },
  "language_info": {
   "codemirror_mode": {
    "name": "ipython",
    "version": 3
   },
   "file_extension": ".py",
   "mimetype": "text/x-python",
   "name": "python",
   "nbconvert_exporter": "python",
   "pygments_lexer": "ipython3",
   "version": "3.11.6"
  }
 },
 "nbformat": 4,
 "nbformat_minor": 5
}
